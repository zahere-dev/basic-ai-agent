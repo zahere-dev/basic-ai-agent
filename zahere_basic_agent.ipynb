{
  "nbformat": 4,
  "nbformat_minor": 0,
  "metadata": {
    "colab": {
      "provenance": [],
      "authorship_tag": "ABX9TyNb3q00P8p4M5iN27jG+h79",
      "include_colab_link": true
    },
    "kernelspec": {
      "name": "python3",
      "display_name": "Python 3"
    },
    "language_info": {
      "name": "python"
    }
  },
  "cells": [
    {
      "cell_type": "markdown",
      "metadata": {
        "id": "view-in-github",
        "colab_type": "text"
      },
      "source": [
        "<a href=\"https://colab.research.google.com/github/zahere-dev/basic-ai-agent/blob/main/zahere_basic_agent.ipynb\" target=\"_parent\"><img src=\"https://colab.research.google.com/assets/colab-badge.svg\" alt=\"Open In Colab\"/></a>"
      ]
    },
    {
      "cell_type": "code",
      "execution_count": 1,
      "metadata": {
        "id": "Gnp159BCclF8",
        "colab": {
          "base_uri": "https://localhost:8080/"
        },
        "outputId": "157f67e4-79e5-40dd-f4ac-acfc5765d217"
      },
      "outputs": [
        {
          "output_type": "stream",
          "name": "stdout",
          "text": [
            "Requirement already satisfied: requests in /usr/local/lib/python3.10/dist-packages (2.32.3)\n",
            "Requirement already satisfied: charset-normalizer<4,>=2 in /usr/local/lib/python3.10/dist-packages (from requests) (3.3.2)\n",
            "Requirement already satisfied: idna<4,>=2.5 in /usr/local/lib/python3.10/dist-packages (from requests) (3.7)\n",
            "Requirement already satisfied: urllib3<3,>=1.21.1 in /usr/local/lib/python3.10/dist-packages (from requests) (2.0.7)\n",
            "Requirement already satisfied: certifi>=2017.4.17 in /usr/local/lib/python3.10/dist-packages (from requests) (2024.7.4)\n"
          ]
        }
      ],
      "source": [
        "!pip install requests"
      ]
    },
    {
      "cell_type": "code",
      "source": [
        "  # agent.py\n",
        "import requests\n",
        "import json\n",
        "import ast\n",
        "\n",
        "class Agent:\n",
        "    def __init__(self, api_key):\n",
        "        self.api_key = api_key\n",
        "        self.tools = []\n",
        "        self.memory = []\n",
        "        self.max_memory = 5\n",
        "\n",
        "    def add_tool(self, tool: Tool):\n",
        "        self.tools.append(tool)\n",
        "\n",
        "    def json_parser(self, input_string):\n",
        "      python_dict = ast.literal_eval(input_string)\n",
        "      json_string = json.dumps(python_dict)\n",
        "      json_dict = json.loads(json_string)\n",
        "\n",
        "      if isinstance(json_dict, dict):\n",
        "        return json_dict\n",
        "\n",
        "      raise \"Invalid JSON response\"\n",
        "\n",
        "    def process_input(self, user_input):\n",
        "        self.memory.append(f\"User: {user_input}\")\n",
        "        self.memory = self.memory[-self.max_memory:]\n",
        "\n",
        "        context = \"\\n\".join(self.memory)\n",
        "        tool_descriptions = \"\\n\".join([f\"- {tool.name()}: {tool.description()}\" for tool in self.tools])\n",
        "        response_format = {\"action\":\"\", \"args\":\"\"}\n",
        "\n",
        "        prompt = f\"\"\"Context:\n",
        "        {context}\n",
        "\n",
        "        Available tools:\n",
        "        {tool_descriptions}\n",
        "\n",
        "        Based on the user's input and context, decide if you should use a tool or respond directly.\n",
        "        Sometimes you might have to use multiple tools to solve user's input. You have to do that in a loop.\n",
        "        If you identify a action, respond with the tool name and the arguments for the tool.\n",
        "        If you decide to respond directly to the user then make the action \"respond_to_user\" with args as your response in the following format.\n",
        "\n",
        "        Response Format:\n",
        "        {response_format}\n",
        "\n",
        "        \"\"\"\n",
        "\n",
        "        response = self.query_llm(prompt)\n",
        "        self.memory.append(f\"Agent: {response}\")\n",
        "\n",
        "        response_dict = self.json_parser(response)\n",
        "\n",
        "        # Check if any tool can handle the input\n",
        "        for tool in self.tools:\n",
        "            if tool.name().lower() == response_dict[\"action\"].lower():\n",
        "                return tool.use(response_dict[\"args\"])\n",
        "\n",
        "        return response_dict\n",
        "\n",
        "    def query_llm(self, prompt):\n",
        "        headers = {\n",
        "            \"Content-Type\": \"application/json\",\n",
        "            \"Authorization\": f\"Bearer {self.api_key}\"\n",
        "        }\n",
        "        data = {\n",
        "            \"model\": \"gpt-4o-mini-2024-07-18\",\n",
        "            \"messages\": [{\"role\": \"user\", \"content\": prompt}],\n",
        "            \"max_tokens\": 150\n",
        "        }\n",
        "        response = requests.post(\"https://api.openai.com/v1/chat/completions\", headers=headers, data=json.dumps(data))\n",
        "        final_response = response.json()['choices'][0]['message']['content'].strip()\n",
        "        print(\"LLM Response \", final_response)\n",
        "        return final_response"
      ],
      "metadata": {
        "colab": {
          "base_uri": "https://localhost:8080/",
          "height": 332
        },
        "id": "zT8Rvbp7dGzg",
        "outputId": "dfdc5bbd-c747-4b50-86c9-5ae431da3113"
      },
      "execution_count": 2,
      "outputs": [
        {
          "output_type": "error",
          "ename": "NameError",
          "evalue": "name 'Tool' is not defined",
          "traceback": [
            "\u001b[0;31m---------------------------------------------------------------------------\u001b[0m",
            "\u001b[0;31mNameError\u001b[0m                                 Traceback (most recent call last)",
            "\u001b[0;32m<ipython-input-2-82757b90ccd0>\u001b[0m in \u001b[0;36m<cell line: 6>\u001b[0;34m()\u001b[0m\n\u001b[1;32m      4\u001b[0m \u001b[0;32mimport\u001b[0m \u001b[0mast\u001b[0m\u001b[0;34m\u001b[0m\u001b[0;34m\u001b[0m\u001b[0m\n\u001b[1;32m      5\u001b[0m \u001b[0;34m\u001b[0m\u001b[0m\n\u001b[0;32m----> 6\u001b[0;31m \u001b[0;32mclass\u001b[0m \u001b[0mAgent\u001b[0m\u001b[0;34m:\u001b[0m\u001b[0;34m\u001b[0m\u001b[0;34m\u001b[0m\u001b[0m\n\u001b[0m\u001b[1;32m      7\u001b[0m   \u001b[0;32mdef\u001b[0m \u001b[0m__init__\u001b[0m\u001b[0;34m(\u001b[0m\u001b[0mself\u001b[0m\u001b[0;34m,\u001b[0m \u001b[0mapi_key\u001b[0m\u001b[0;34m)\u001b[0m\u001b[0;34m:\u001b[0m\u001b[0;34m\u001b[0m\u001b[0;34m\u001b[0m\u001b[0m\n\u001b[1;32m      8\u001b[0m       \u001b[0mself\u001b[0m\u001b[0;34m.\u001b[0m\u001b[0mapi_key\u001b[0m \u001b[0;34m=\u001b[0m \u001b[0mapi_key\u001b[0m\u001b[0;34m\u001b[0m\u001b[0;34m\u001b[0m\u001b[0m\n",
            "\u001b[0;32m<ipython-input-2-82757b90ccd0>\u001b[0m in \u001b[0;36mAgent\u001b[0;34m()\u001b[0m\n\u001b[1;32m     11\u001b[0m       \u001b[0mself\u001b[0m\u001b[0;34m.\u001b[0m\u001b[0mmax_memory\u001b[0m \u001b[0;34m=\u001b[0m \u001b[0;36m5\u001b[0m\u001b[0;34m\u001b[0m\u001b[0;34m\u001b[0m\u001b[0m\n\u001b[1;32m     12\u001b[0m \u001b[0;34m\u001b[0m\u001b[0m\n\u001b[0;32m---> 13\u001b[0;31m   \u001b[0;32mdef\u001b[0m \u001b[0madd_tool\u001b[0m\u001b[0;34m(\u001b[0m\u001b[0mself\u001b[0m\u001b[0;34m,\u001b[0m \u001b[0mtool\u001b[0m\u001b[0;34m:\u001b[0m \u001b[0mTool\u001b[0m\u001b[0;34m)\u001b[0m\u001b[0;34m:\u001b[0m\u001b[0;34m\u001b[0m\u001b[0;34m\u001b[0m\u001b[0m\n\u001b[0m\u001b[1;32m     14\u001b[0m       \u001b[0mself\u001b[0m\u001b[0;34m.\u001b[0m\u001b[0mtools\u001b[0m\u001b[0;34m.\u001b[0m\u001b[0mappend\u001b[0m\u001b[0;34m(\u001b[0m\u001b[0mtool\u001b[0m\u001b[0;34m)\u001b[0m\u001b[0;34m\u001b[0m\u001b[0;34m\u001b[0m\u001b[0m\n\u001b[1;32m     15\u001b[0m \u001b[0;34m\u001b[0m\u001b[0m\n",
            "\u001b[0;31mNameError\u001b[0m: name 'Tool' is not defined"
          ]
        }
      ]
    },
    {
      "cell_type": "code",
      "source": [
        "import datetime\n",
        "import requests\n",
        "from pytz import timezone\n",
        "from abc import ABC, abstractmethod\n",
        "\n",
        "class Tool(ABC):\n",
        "    @abstractmethod\n",
        "    def name(self) -> str:\n",
        "        pass\n",
        "\n",
        "    @abstractmethod\n",
        "    def description(self) -> str:\n",
        "        pass\n",
        "\n",
        "    @abstractmethod\n",
        "    def use(self, *args, **kwargs):\n",
        "        pass\n",
        "\n",
        "class TimeTool(Tool):\n",
        "    def name(self):\n",
        "        return \"Time Tool\"\n",
        "\n",
        "    def description(self):\n",
        "        return \"Provides the current time for a given city's timezone like Asia/Kolkata, America/New_York etc. If no timezone is provided, it returns the local time.\"\n",
        "\n",
        "    def use(self, *args, **kwargs):\n",
        "        format = \"%Y-%m-%d %H:%M:%S %Z%z\"\n",
        "        current_time = datetime.datetime.now()\n",
        "        input_timezone = args[0]\n",
        "        if input_timezone:\n",
        "            print(\"TimeZone\", input_timezone)\n",
        "            current_time =  current_time.astimezone(timezone(input_timezone))\n",
        "        return f\"The current time is {current_time}.\"\n",
        "\n",
        "\n",
        "class WeatherTool(Tool):\n",
        "    def name(self):\n",
        "        return \"Weather Tool\"\n",
        "\n",
        "    def description(self):\n",
        "        return \"Provides weather information for a given location\"\n",
        "\n",
        "    def use(self, *args, **kwargs):\n",
        "        location = args[0].split(\"weather in \")[-1]\n",
        "        api_key = userdata.get(\"OPENWEATHERMAP_API_KEY\")\n",
        "        url = f\"http://api.openweathermap.org/data/2.5/weather?q={location}&appid={api_key}&units=metric\"\n",
        "        response = requests.get(url)\n",
        "        data = response.json()\n",
        "        if data[\"cod\"] == 200:\n",
        "            temp = data[\"main\"][\"temp\"]\n",
        "            description = data[\"weather\"][0][\"description\"]\n",
        "            return f\"The weather in {location} is currently {description} with a temperature of {temp}°C.\"\n",
        "        else:\n",
        "            return f\"Sorry, I couldn't find weather information for {location}.\""
      ],
      "metadata": {
        "id": "Zw_ImXRbdli4"
      },
      "execution_count": null,
      "outputs": []
    },
    {
      "cell_type": "code",
      "source": [
        "  # main.py\n",
        "\n",
        "from google.colab import userdata\n",
        "\n",
        "def main():\n",
        "    api_key = userdata.get(\"OPENAI_API_KEY\")\n",
        "    agent = Agent(api_key)\n",
        "\n",
        "    # Add tools to the agent\n",
        "    agent.add_tool(TimeTool())\n",
        "    agent.add_tool(WeatherTool())\n",
        "\n",
        "    print(\"LLM Agent: Hello! How can I assist you today?\")\n",
        "\n",
        "    user_input = input(\"You: \")\n",
        "    while True:\n",
        "      if user_input.lower() in [\"exit\", \"bye\", \"close\"]:\n",
        "        print(\"See you later!\")\n",
        "        break\n",
        "      response = agent.process_input(user_input)\n",
        "      if isinstance(response, dict) and response[\"action\"] == \"respond_to_user\":\n",
        "        print(\"Reponse from Agent: \", response[\"args\"])\n",
        "        user_input = input(\"You: \")\n",
        "      else:\n",
        "        user_input = response\n",
        "\n",
        "if __name__ == \"__main__\":\n",
        "    main()"
      ],
      "metadata": {
        "id": "L9NpVfKndr5f"
      },
      "execution_count": null,
      "outputs": []
    },
    {
      "cell_type": "code",
      "source": [],
      "metadata": {
        "id": "hYTzrVX2yf2z"
      },
      "execution_count": null,
      "outputs": []
    }
  ]
}